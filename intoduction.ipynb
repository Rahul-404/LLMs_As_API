{
 "cells": [
  {
   "cell_type": "markdown",
   "metadata": {},
   "source": [
    "# 3-Langchain Series-Production Grade Deployment LLM As API With Langchain And FastAPI"
   ]
  },
  {
   "cell_type": "markdown",
   "metadata": {},
   "source": [
    "Creating production grade deployment that is creating API for all kind of LLMs\n",
    "\n",
    "Important Components\n",
    "\n",
    "- LangChain\n",
    "- LangServe\n",
    "\n",
    "along with this we are going to use \n",
    "\n",
    "- Fast API\n",
    "\n",
    "will also create a Swagger UI (already provided by langchain)\n",
    "\n"
   ]
  },
  {
   "cell_type": "markdown",
   "metadata": {},
   "source": [
    "## API's for Deployment"
   ]
  },
  {
   "cell_type": "markdown",
   "metadata": {},
   "source": [
    "<div style=\"text-align: center;\">\n",
    "  <img src=\"assets/LLM_API.png\" alt=\"API Image\" width=\"500\"/>\n",
    "</div>\n"
   ]
  },
  {
   "cell_type": "markdown",
   "metadata": {},
   "source": [
    "if you consider the above diagram, this is the most simplistic diagram one can have.\n",
    "\n",
    "At the end of day there will be different applications which are create by software engineers it can be web app, mobile applications , descktop app etc.\n",
    "\n",
    "now for those apps if we want to integrate any foundation model or any fine-tunned foundation model like LLMs and all , we need to integrate those in the form of API's.\n",
    "\n",
    "for sure we are going to do this over different LLM models (it can be foundation models or fine-tunned model), will use this functionality along with our web app, or mobile apps.\n",
    "\n",
    "what we will do is that , will create specific API's, now this api's will be having routes , now this routes will respensible for weather we have to probably interacte with open api or weathe r we have to interacte with other llm models like Cloude 3 or llama2 open source model so any number of llm models weather it is open source or weather it is paid API models specificalyy for the llms will definitely use it.\n",
    "\n",
    "this something we are goint to do in this hand-on.\n",
    "\n",
    "will create each componnets seperately"
   ]
  },
  {
   "cell_type": "code",
   "execution_count": null,
   "metadata": {
    "vscode": {
     "languageId": "plaintext"
    }
   },
   "outputs": [],
   "source": []
  },
  {
   "cell_type": "markdown",
   "metadata": {},
   "source": []
  }
 ],
 "metadata": {
  "language_info": {
   "name": "python"
  }
 },
 "nbformat": 4,
 "nbformat_minor": 2
}
